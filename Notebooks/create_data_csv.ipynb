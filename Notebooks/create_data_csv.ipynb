{
 "cells": [
  {
   "cell_type": "code",
   "execution_count": 3,
   "metadata": {},
   "outputs": [],
   "source": [
    "import pandas as pd"
   ]
  },
  {
   "cell_type": "code",
   "execution_count": 9,
   "metadata": {},
   "outputs": [
    {
     "name": "stdout",
     "output_type": "stream",
     "text": [
      "CrossRef.ipynb               bm25.ipynb\n",
      "DataLoader.ipynb             citation_stuff.ipynb\n",
      "\u001b[1m\u001b[36mEmbedding_and_retrieval\u001b[m\u001b[m      clustering.ipynb\n",
      "KG_outputs_exploration.ipynb create_data_csv.ipynb\n",
      "\u001b[1m\u001b[36mOAG_data_notebooks\u001b[m\u001b[m           filename.pickle\n",
      "Retrofitting.ipynb           grid.csv\n",
      "SentenceTransformers.ipynb   tf-idf embedder.ipynb\n",
      "all_author_infos.pickle      wikidata.ipynb\n",
      "author_disambiguator.ipynb\n"
     ]
    }
   ],
   "source": [
    "! ls"
   ]
  },
  {
   "cell_type": "code",
   "execution_count": 10,
   "metadata": {},
   "outputs": [],
   "source": [
    "def load_data_and_authors(data_path=\"Embedding_and_retrieval/papers.pkl\", \n",
    "                          authors_path=\"Embedding_and_retrieval/authors.csv\"):\n",
    "    data = pd.read_pickle(data_path)\n",
    "    data.drop(63376, inplace=True)\n",
    "    authors = pd.read_csv(authors_path)\n",
    "    authors.drop(\"Unnamed: 0\", inplace=True, axis=1)\n",
    "    return data, authors"
   ]
  },
  {
   "cell_type": "code",
   "execution_count": 11,
   "metadata": {},
   "outputs": [],
   "source": [
    "data, authors = load_data_and_authors()"
   ]
  },
  {
   "cell_type": "code",
   "execution_count": 14,
   "metadata": {},
   "outputs": [],
   "source": [
    "data_for_csv = data[[\"id\", \"title\", \"authors\", \"venue\", \"year\", \"n_citation\", \"page_start\", \"page_end\", \"doc_type\", \"publisher\", \"volume\", \"issue\", \"fos\", \"doi\", \"references\", \"abstract\", \"cleaned_abstract_sentences\", \"cleaned_title\"]]"
   ]
  },
  {
   "cell_type": "code",
   "execution_count": 18,
   "metadata": {},
   "outputs": [],
   "source": [
    "data_for_csv.to_csv(\"papers.csv\", index=False)"
   ]
  },
  {
   "cell_type": "code",
   "execution_count": 19,
   "metadata": {},
   "outputs": [],
   "source": [
    "authors.to_csv(\"authors.csv\", index=False)"
   ]
  },
  {
   "cell_type": "code",
   "execution_count": null,
   "metadata": {},
   "outputs": [],
   "source": []
  }
 ],
 "metadata": {
  "kernelspec": {
   "display_name": "Python 3",
   "language": "python",
   "name": "python3"
  },
  "language_info": {
   "codemirror_mode": {
    "name": "ipython",
    "version": 3
   },
   "file_extension": ".py",
   "mimetype": "text/x-python",
   "name": "python",
   "nbconvert_exporter": "python",
   "pygments_lexer": "ipython3",
   "version": "3.6.7"
  }
 },
 "nbformat": 4,
 "nbformat_minor": 2
}

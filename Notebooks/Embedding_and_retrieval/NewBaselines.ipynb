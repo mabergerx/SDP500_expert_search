{
 "cells": [
  {
   "cell_type": "code",
   "execution_count": null,
   "metadata": {
    "id": "kxQGMQ1u8w80"
   },
   "outputs": [],
   "source": [
    "! pip install flair"
   ]
  },
  {
   "cell_type": "code",
   "execution_count": null,
   "metadata": {
    "id": "C7lADA4OFsG2"
   },
   "outputs": [],
   "source": [
    "import numpy as np\n",
    "import torch"
   ]
  },
  {
   "cell_type": "code",
   "execution_count": null,
   "metadata": {
    "id": "HnPydMPrBR1g"
   },
   "outputs": [],
   "source": [
    "import pandas as pd\n",
    "\n",
    "data = pd.read_csv(\"papers.csv\")"
   ]
  },
  {
   "cell_type": "code",
   "execution_count": null,
   "metadata": {
    "id": "H-OJGmZ_BtCP"
   },
   "outputs": [],
   "source": [
    "abstracts = data.cleaned_abstract_sentences.tolist()"
   ]
  },
  {
   "cell_type": "code",
   "execution_count": null,
   "metadata": {
    "id": "ofsPlu0pCNh4"
   },
   "outputs": [],
   "source": [
    "for a, t in zip(abstracts, data.cleaned_title):\n",
    "    a.append(t)"
   ]
  },
  {
   "cell_type": "code",
   "execution_count": null,
   "metadata": {
    "colab": {
     "base_uri": "https://localhost:8080/",
     "height": 72
    },
    "id": "AHNPC_nP9ATN",
    "outputId": "31686552-eb97-452d-e327-22d6d4682460"
   },
   "outputs": [
    {
     "name": "stderr",
     "output_type": "stream",
     "text": [
      "/usr/local/lib/python3.6/dist-packages/smart_open/smart_open_lib.py:253: UserWarning: This function is deprecated, use smart_open.open instead. See the migration notes for details: https://github.com/RaRe-Technologies/smart_open/blob/master/README.rst#migrating-to-the-new-open-function\n",
      "  'See the migration notes for details: %s' % _MIGRATION_NOTES_URL\n"
     ]
    }
   ],
   "source": [
    "from flair.embeddings import TransformerDocumentEmbeddings, DocumentPoolEmbeddings, DocumentRNNEmbeddings, WordEmbeddings, TransformerWordEmbeddings\n",
    "from flair.data import Sentence\n",
    "\n",
    "# document embedding is a mean over GloVe word embeddings\n",
    "pooled_embeddings = DocumentPoolEmbeddings([WordEmbeddings('glove')], pooling='mean')"
   ]
  },
  {
   "cell_type": "code",
   "execution_count": null,
   "metadata": {
    "id": "S2dOoZoa9QOJ"
   },
   "outputs": [],
   "source": [
    "# document embedding is a pre-trained transformer\n",
    "# transformer_embeddings = TransformerDocumentEmbeddings('bert-base-uncased')\n",
    "\n",
    "# we want to do pooling for our baseline\n",
    "pooled_embeddings = DocumentPoolEmbeddings([TransformerWordEmbeddings('bert-base-uncased')], pooling='mean')"
   ]
  },
  {
   "cell_type": "code",
   "execution_count": null,
   "metadata": {
    "id": "1HBXh_zYChiC"
   },
   "outputs": [],
   "source": [
    "def embed_docs(abstracts, mode=\"bert\"):\n",
    "    sentencized = [Sentence(s) for a in abstracts for s in a]\n",
    "    if mode == \"bert\":\n",
    "        transformer_embeddings.embed(sentencized)\n",
    "        return [s.embedding for s in sentencized]\n",
    "        # return torch.mean(torch.stack([s.embedding for s in sentencized]), dim=0)\n",
    "    elif mode == \"glove-mean\":\n",
    "        pooled_embeddings.embed(sentencized)\n",
    "        return [s.embedding for s in sentencized]\n",
    "        # return torch.mean(torch.stack([s.embedding for s in sentencized]), dim=0)\n"
   ]
  },
  {
   "cell_type": "code",
   "execution_count": null,
   "metadata": {
    "id": "ndKaektP_iPe"
   },
   "outputs": [],
   "source": [
    "# all_abstract_bert_embeddings = [embed_doc(a) for a in abstracts]"
   ]
  },
  {
   "cell_type": "code",
   "execution_count": null,
   "metadata": {
    "id": "Jf3oqwbPFXdw"
   },
   "outputs": [],
   "source": [
    "def create_alignment(df):\n",
    "    \"\"\"\n",
    "    Map the sentence position indexes of the abstract sentences for a whole\n",
    "    papers dataframe. Used later to map the separately calculated sentence \n",
    "    embeddings (due to performance gains in SBERT batch embedding) to \n",
    "    the correct paper.\n",
    "    \n",
    "    :param df: The papers dataframe.\n",
    "    \n",
    "    :return alignment: The sentence-to-position alignment dictionary.\n",
    "    \"\"\"\n",
    "    alignment = {}\n",
    "    current_start = 0\n",
    "    current_end = 0\n",
    "    for index, row in df.iterrows():\n",
    "        abstract = row.abstracts_no_empties_no_toolong\n",
    "        current_end += len(abstract)\n",
    "        alignment[index] = {\"start\": current_start, \"end\": current_end}\n",
    "        current_start = current_end\n",
    "    return alignment"
   ]
  },
  {
   "cell_type": "code",
   "execution_count": null,
   "metadata": {
    "id": "1B35UDUwHtcH"
   },
   "outputs": [],
   "source": [
    "alignment = create_alignment(data)"
   ]
  },
  {
   "cell_type": "code",
   "execution_count": null,
   "metadata": {
    "id": "BJSXrchcHw6E"
   },
   "outputs": [],
   "source": [
    "all_sentence_embeddings_bert = embed_docs(abstracts)"
   ]
  },
  {
   "cell_type": "code",
   "execution_count": null,
   "metadata": {
    "id": "Y69oFb5EIiM-"
   },
   "outputs": [],
   "source": [
    "all_sentence_embeddings_glove = embed_docs(abstracts, \"glove-mean\")"
   ]
  }
 ],
 "metadata": {
  "accelerator": "GPU",
  "colab": {
   "name": "NewBaselines.ipynb",
   "provenance": []
  },
  "kernelspec": {
   "display_name": "Python 3",
   "language": "python",
   "name": "python3"
  },
  "language_info": {
   "codemirror_mode": {
    "name": "ipython",
    "version": 3
   },
   "file_extension": ".py",
   "mimetype": "text/x-python",
   "name": "python",
   "nbconvert_exporter": "python",
   "pygments_lexer": "ipython3",
   "version": "3.6.7"
  }
 },
 "nbformat": 4,
 "nbformat_minor": 2
}

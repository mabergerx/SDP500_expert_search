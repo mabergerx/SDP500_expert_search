{
 "cells": [
  {
   "cell_type": "code",
   "execution_count": null,
   "metadata": {
    "id": "NTJpGM8JuyD3"
   },
   "outputs": [],
   "source": [
    "import pandas as pd"
   ]
  },
  {
   "cell_type": "code",
   "execution_count": null,
   "metadata": {
    "id": "sbFMaXKMvIRf"
   },
   "outputs": [],
   "source": [
    "data = pd.read_csv(\"papers.csv\")"
   ]
  },
  {
   "cell_type": "code",
   "execution_count": null,
   "metadata": {
    "id": "apatSv0JvQLc"
   },
   "outputs": [],
   "source": [
    "# cleaned_abstracts = data.cleaned_abstract_sentences\n",
    "# cleaned_titles = data.cleaned_title"
   ]
  },
  {
   "cell_type": "code",
   "execution_count": null,
   "metadata": {
    "id": "JzJmQl8YwFQ6"
   },
   "outputs": [],
   "source": [
    "# cleaned_texts = cleaned_abstracts\n",
    "for ca, ct in zip(data.cleaned_abstract_sentences, data.cleaned_title):\n",
    "    ca.insert(0, ct)"
   ]
  },
  {
   "cell_type": "code",
   "execution_count": null,
   "metadata": {
    "id": "dnFzQ6AdxXZM"
   },
   "outputs": [],
   "source": [
    "from sklearn.feature_extraction.text import TfidfVectorizer\n",
    "from sklearn.decomposition import TruncatedSVD"
   ]
  },
  {
   "cell_type": "code",
   "execution_count": null,
   "metadata": {
    "id": "ggYdhehqyBM1"
   },
   "outputs": [],
   "source": [
    "tfidf_vectorizer = TfidfVectorizer(stop_words=\"english\", \n",
    "                                   max_df=0.9) "
   ]
  },
  {
   "cell_type": "code",
   "execution_count": null,
   "metadata": {
    "id": "eaS3NoLTy1ev"
   },
   "outputs": [],
   "source": [
    "all_cleaned_texts = [sentence for sublist in data.cleaned_abstract_sentences for sentence in sublist]"
   ]
  },
  {
   "cell_type": "code",
   "execution_count": null,
   "metadata": {
    "id": "Pg7ot2Y4zA_9"
   },
   "outputs": [],
   "source": [
    "# tfidf_vectorizer.fit(all_cleaned_texts)"
   ]
  },
  {
   "cell_type": "code",
   "execution_count": null,
   "metadata": {
    "id": "TxVXKEhuzD02"
   },
   "outputs": [],
   "source": [
    "svd_model = TruncatedSVD(n_components=768, \n",
    "                         algorithm='randomized',\n",
    "                         n_iter=10, random_state=42)"
   ]
  },
  {
   "cell_type": "code",
   "execution_count": null,
   "metadata": {
    "id": "b-mVS7v72HxY"
   },
   "outputs": [],
   "source": [
    "from sklearn.pipeline import Pipeline"
   ]
  },
  {
   "cell_type": "code",
   "execution_count": null,
   "metadata": {
    "id": "YBITNl0n2nkU"
   },
   "outputs": [],
   "source": [
    "svd_transformer = Pipeline([('tfidf', tfidf_vectorizer), \n",
    "                            ('svd', svd_model)])"
   ]
  },
  {
   "cell_type": "code",
   "execution_count": null,
   "metadata": {
    "id": "DV2iai2_3HR7"
   },
   "outputs": [],
   "source": [
    "svd_transformer.fit(all_cleaned_texts)"
   ]
  },
  {
   "cell_type": "code",
   "execution_count": null,
   "metadata": {
    "id": "rEQpfZq_7fzP"
   },
   "outputs": [],
   "source": []
  }
 ],
 "metadata": {
  "colab": {
   "collapsed_sections": [],
   "name": "TfIdf-baseline.ipynb",
   "provenance": []
  },
  "kernelspec": {
   "display_name": "Python 3",
   "language": "python",
   "name": "python3"
  },
  "language_info": {
   "codemirror_mode": {
    "name": "ipython",
    "version": 3
   },
   "file_extension": ".py",
   "mimetype": "text/x-python",
   "name": "python",
   "nbconvert_exporter": "python",
   "pygments_lexer": "ipython3",
   "version": "3.6.7"
  }
 },
 "nbformat": 4,
 "nbformat_minor": 2
}

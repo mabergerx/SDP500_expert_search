{
 "cells": [
  {
   "cell_type": "code",
   "execution_count": 768,
   "metadata": {},
   "outputs": [],
   "source": [
    "import pandas as pd\n",
    "import time\n",
    "import requests\n",
    "import numpy as np\n",
    "from datetime import datetime\n",
    "from dateutil import parser\n",
    "from pprint import pprint\n",
    "import rdflib"
   ]
  },
  {
   "cell_type": "code",
   "execution_count": 677,
   "metadata": {},
   "outputs": [],
   "source": [
    "date_of_birth = datetime.strptime('1969-00-01'[:4], \"%Y\")\n",
    "# date_of_birth = datetime.strptime(wikidata_dict['date of birth (P569)'].split(\"T\")[0], '+%Y-00-00')"
   ]
  },
  {
   "cell_type": "code",
   "execution_count": 683,
   "metadata": {},
   "outputs": [
    {
     "data": {
      "text/plain": [
       "'1968'"
      ]
     },
     "execution_count": 683,
     "metadata": {},
     "output_type": "execute_result"
    }
   ],
   "source": [
    "\"+1968\"[1:5]"
   ]
  },
  {
   "cell_type": "code",
   "execution_count": 679,
   "metadata": {},
   "outputs": [
    {
     "data": {
      "text/plain": [
       "1"
      ]
     },
     "execution_count": 679,
     "metadata": {},
     "output_type": "execute_result"
    }
   ],
   "source": [
    "date_of_birth.month"
   ]
  },
  {
   "cell_type": "code",
   "execution_count": 827,
   "metadata": {},
   "outputs": [],
   "source": [
    "all_authors = pd.read_csv(\"authors.csv\", index_col=0)\n",
    "all_authors['info'] = \"nothing\""
   ]
  },
  {
   "cell_type": "code",
   "execution_count": 828,
   "metadata": {},
   "outputs": [],
   "source": [
    "def get_authors_affiliation_link(author_id):\n",
    "    try:\n",
    "        r = requests.get(f'http://ma-graph.org/entity/{author_id}')\n",
    "        graph = rdflib.Graph()\n",
    "        graph.parse(data=r.text)\n",
    "        for s, p, o in graph:\n",
    "            if \"memberOf\" in p:\n",
    "                return o.toPython()\n",
    "    except:\n",
    "        return \"Unknown\""
   ]
  },
  {
   "cell_type": "code",
   "execution_count": 829,
   "metadata": {},
   "outputs": [],
   "source": [
    "# links = [get_authors_affiliation_link(i) for i in all_authors.id]"
   ]
  },
  {
   "cell_type": "code",
   "execution_count": 780,
   "metadata": {},
   "outputs": [],
   "source": [
    "grid = pd.read_csv(\"grid.csv\")"
   ]
  },
  {
   "cell_type": "code",
   "execution_count": 789,
   "metadata": {},
   "outputs": [],
   "source": [
    "def get_affiliation_info(affiliation_link, grid_data=grid):\n",
    "    try:\n",
    "        r_aff = requests.get(affiliation_link)\n",
    "        graph = rdflib.Graph()\n",
    "        graph.parse(data=r_aff.text)\n",
    "        infos = {}\n",
    "        for s, p, o in graph:\n",
    "            if \"name\" in p:\n",
    "                infos[\"name\"] = o.toPython()\n",
    "            elif \"homepage\" in p:\n",
    "                infos[\"homepage\"] = o.toPython()\n",
    "            elif \"seeAlso\" in p:\n",
    "                infos[\"additionalWebsite\"] = o.toPython()\n",
    "            elif \"grid\" in p:\n",
    "                infos[\"gridPage\"] = o.toPython()\n",
    "                grid_id = o.toPython().split(\"/\")[-1]\n",
    "                infos[\"city\"] = grid_data[grid_data.ID == grid_id][\"City\"].values[0]\n",
    "                infos[\"country\"] = grid_data[grid_data.ID == grid_id][\"Country\"].values[0]\n",
    "\n",
    "        return infos\n",
    "    except:\n",
    "        return {}"
   ]
  },
  {
   "cell_type": "code",
   "execution_count": null,
   "metadata": {},
   "outputs": [],
   "source": [
    "all_affiliation_infos = [get_affiliation_info(link) if link != \"Unknown\" else {} for link in links]"
   ]
  },
  {
   "cell_type": "code",
   "execution_count": 839,
   "metadata": {},
   "outputs": [
    {
     "data": {
      "text/plain": [
       "{'additionalWebsite': 'http://en.wikipedia.org/wiki/Eötvös_Loránd_University',\n",
       " 'city': 'Budapest',\n",
       " 'country': 'Hungary',\n",
       " 'gridPage': 'http://www.grid.ac/institutes/grid.5591.8',\n",
       " 'homepage': 'http://www.elte.hu/en',\n",
       " 'name': 'E?tv?s Lor?nd University'}"
      ]
     },
     "execution_count": 839,
     "metadata": {},
     "output_type": "execute_result"
    }
   ],
   "source": [
    "all_affiliation_infos[-11]"
   ]
  },
  {
   "cell_type": "code",
   "execution_count": 838,
   "metadata": {},
   "outputs": [
    {
     "data": {
      "text/plain": [
       "id                                                    287580938\n",
       "n_citation                                                   19\n",
       "n_pubs                                                        2\n",
       "name                                              Péter Aszalós\n",
       "pubs          [{'i': '2001101397', 'r': 3}, {'i': '194468758...\n",
       "tags          [{'t': 'Computer simulation'}, {'t': 'Degradat...\n",
       "info                                                    nothing\n",
       "Name: 67797, dtype: object"
      ]
     },
     "execution_count": 838,
     "metadata": {},
     "output_type": "execute_result"
    }
   ],
   "source": [
    "all_authors.iloc[-11]"
   ]
  },
  {
   "cell_type": "code",
   "execution_count": 841,
   "metadata": {},
   "outputs": [],
   "source": [
    "all_authors[\"info\"] = all_affiliation_infos"
   ]
  },
  {
   "cell_type": "code",
   "execution_count": 843,
   "metadata": {},
   "outputs": [],
   "source": [
    "all_authors.to_csv(\"authors_with_affiliation_info.csv\")"
   ]
  },
  {
   "cell_type": "code",
   "execution_count": 844,
   "metadata": {},
   "outputs": [
    {
     "name": "stdout",
     "output_type": "stream",
     "text": [
      "\n",
      "\n",
      "Updates are available for some Cloud SDK components.  To install them,\n",
      "please run:\n",
      "  $ gcloud components update\n",
      "\n",
      "Copying file://authors_with_affiliation_info.csv [Content-Type=text/csv]...\n",
      "==> NOTE: You are uploading one or more large file(s), which would run\n",
      "significantly faster if you enable parallel composite uploads. This\n",
      "feature can be enabled by editing the\n",
      "\"parallel_composite_upload_threshold\" value in your .boto\n",
      "configuration file. However, note that if you do this large files will\n",
      "be uploaded as `composite objects\n",
      "<https://cloud.google.com/storage/docs/composite-objects>`_,which\n",
      "means that any user who downloads such objects will need to have a\n",
      "compiled crcmod installed (see \"gsutil help crcmod\"). This is because\n",
      "without a compiled crcmod, computing checksums on composite objects is\n",
      "so slow that gsutil disables downloads of composite objects.\n",
      "\n",
      "/\n",
      "Operation completed over 1 objects/253.5 MiB.                                    \n"
     ]
    }
   ],
   "source": [
    "! gsutil cp authors_with_affiliation_info.csv gs://noobs-ml/sem-search/CS_data/arxiv_data"
   ]
  },
  {
   "cell_type": "code",
   "execution_count": 879,
   "metadata": {},
   "outputs": [
    {
     "name": "stdout",
     "output_type": "stream",
     "text": [
      "Pekka Korhonen\n",
      "2028096276\n",
      "{'homepage': 'http://www.aalto.fi/en/', 'name': 'Aalto University', 'additionalWebsite': 'http://en.wikipedia.org/wiki/Aalto_University', 'gridPage': 'http://www.grid.ac/institutes/grid.5373.2', 'city': 'Helsinki', 'country': 'Finland'}\n"
     ]
    }
   ],
   "source": [
    "sam = all_authors.sample()\n",
    "print(sam.name.values[0])\n",
    "print(sam.id.values[0])\n",
    "print(sam[\"info\"].values[0])"
   ]
  },
  {
   "cell_type": "code",
   "execution_count": null,
   "metadata": {},
   "outputs": [],
   "source": []
  },
  {
   "cell_type": "code",
   "execution_count": 880,
   "metadata": {},
   "outputs": [],
   "source": [
    "with open('all_author_infos.pickle', 'rb') as handle:\n",
    "    wikidata_infos = pickle.load(handle)"
   ]
  },
  {
   "cell_type": "code",
   "execution_count": 960,
   "metadata": {},
   "outputs": [
    {
     "data": {
      "text/plain": [
       "28574"
      ]
     },
     "execution_count": 960,
     "metadata": {},
     "output_type": "execute_result"
    }
   ],
   "source": [
    "len([w for w in wikidata_infos if w])"
   ]
  },
  {
   "cell_type": "code",
   "execution_count": 953,
   "metadata": {},
   "outputs": [
    {
     "data": {
      "text/plain": [
       "{'academic_degree': '',\n",
       " 'age': None,\n",
       " 'alive': False,\n",
       " 'awards': ['doctor honoris causa',\n",
       "  'Steele Prize for Mathematical Exposition'],\n",
       " 'educated_at': ['Duke University'],\n",
       " 'employers': ['University of Wisconsin–Madison'],\n",
       " 'google_scholar_link': '',\n",
       " 'notable_works': [''],\n",
       " 'occupations': ['mathematician', 'university teacher'],\n",
       " 'personal_websites': [],\n",
       " 'wikidata_id': 'Q470503'}"
      ]
     },
     "execution_count": 953,
     "metadata": {},
     "output_type": "execute_result"
    }
   ],
   "source": [
    "wiculled[917]"
   ]
  },
  {
   "cell_type": "code",
   "execution_count": 961,
   "metadata": {},
   "outputs": [],
   "source": [
    "def cull_data(w):\n",
    "    if w != {}:\n",
    "        if w[\"occupations\"] != ['']:\n",
    "            for i in w[\"occupations\"]:\n",
    "                if any(occ in i for occ in {\"engineer\", \"linguist\", \"mathematician\", \"statistician\", \"computer\", \"researcher\"}):\n",
    "                    return w\n",
    "            return {}\n",
    "        else:\n",
    "            return w\n",
    "    else:\n",
    "        return w\n",
    "    \n"
   ]
  },
  {
   "cell_type": "code",
   "execution_count": 962,
   "metadata": {},
   "outputs": [],
   "source": [
    "wiculled = [cull_data(w) for w in wikidata_infos]"
   ]
  },
  {
   "cell_type": "code",
   "execution_count": 963,
   "metadata": {},
   "outputs": [
    {
     "data": {
      "text/plain": [
       "21685"
      ]
     },
     "execution_count": 963,
     "metadata": {},
     "output_type": "execute_result"
    }
   ],
   "source": [
    "len([w for w in wiculled if w != {}])"
   ]
  },
  {
   "cell_type": "code",
   "execution_count": 964,
   "metadata": {},
   "outputs": [],
   "source": [
    "all_authors[\"wikidata\"] = wiculled"
   ]
  },
  {
   "cell_type": "code",
   "execution_count": 965,
   "metadata": {},
   "outputs": [],
   "source": [
    "all_authors.to_csv(\"authors_with_wikidata.csv\")"
   ]
  },
  {
   "cell_type": "code",
   "execution_count": null,
   "metadata": {},
   "outputs": [],
   "source": [
    "s = time.time()\n",
    "get_affiliation_info(\"http://ma-graph.org/entity/131827901\")\n",
    "print(time.time() - s)"
   ]
  },
  {
   "cell_type": "code",
   "execution_count": 929,
   "metadata": {},
   "outputs": [
    {
     "data": {
      "text/plain": [
       "{'academic_degree': '',\n",
       " 'age': None,\n",
       " 'alive': True,\n",
       " 'awards': ['W. Wallace McDowell Award',\n",
       "  'ACM Fellow',\n",
       "  'Fellow of the International Association for Pattern Recognition',\n",
       "  'IEEE Fellow',\n",
       "  'Fellow of the SPIE',\n",
       "  'AAAS Fellow'],\n",
       " 'educated_at': ['Ohio State University',\n",
       "  'Indian Institute of Technology Kanpur'],\n",
       " 'employers': ['Michigan State University'],\n",
       " 'google_scholar_link': 'https://scholar.google.com/citations?user=g-_ZXGsAAAAJ',\n",
       " 'notable_works': [''],\n",
       " 'occupations': ['computer scientist', 'engineer'],\n",
       " 'personal_websites': [],\n",
       " 'wikidata_id': 'Q15783490'}"
      ]
     },
     "execution_count": 929,
     "metadata": {},
     "output_type": "execute_result"
    }
   ],
   "source": [
    "all_authors[all_authors.name.str.contains(\"Anil K. J\")].wikidata.values[0]"
   ]
  },
  {
   "cell_type": "code",
   "execution_count": 274,
   "metadata": {},
   "outputs": [],
   "source": [
    "all_names = all_authors.name.tolist()"
   ]
  },
  {
   "cell_type": "code",
   "execution_count": 707,
   "metadata": {},
   "outputs": [
    {
     "name": "stdout",
     "output_type": "stream",
     "text": [
      "Q88060589\n",
      "Q58312925\n"
     ]
    }
   ],
   "source": [
    "# RUN THIS EVENING!\n",
    "all_author_infos = [get_author_info_v2(name) for name in all_names[:10]]"
   ]
  },
  {
   "cell_type": "code",
   "execution_count": 710,
   "metadata": {},
   "outputs": [],
   "source": [
    "import pickle\n",
    "\n",
    "with open('filename.pickle', 'wb') as handle:\n",
    "    pickle.dump(all_author_infos, handle, protocol=pickle.HIGHEST_PROTOCOL)"
   ]
  },
  {
   "cell_type": "code",
   "execution_count": 711,
   "metadata": {},
   "outputs": [],
   "source": [
    "with open('filename.pickle', 'rb') as handle:\n",
    "    b = pickle.load(handle)"
   ]
  },
  {
   "cell_type": "code",
   "execution_count": 605,
   "metadata": {},
   "outputs": [
    {
     "data": {
      "text/plain": [
       "['Florent Benaych-Georges',\n",
       " 'Frederique Crete',\n",
       " 'Maryam Karimzadehgan',\n",
       " 'Fabio Massimo Zanzotto',\n",
       " 'Stefano Serra-Capizzano',\n",
       " 'Marco Cerami',\n",
       " 'Anurat Chapanond',\n",
       " 'Ajo Fod',\n",
       " 'Gilles Degottex',\n",
       " 'Erik Bylow',\n",
       " 'Pierre Bonami',\n",
       " 'Daniel Stutzbach',\n",
       " 'Per Martin-Löf',\n",
       " 'Slim Essid',\n",
       " 'Vincent Perlbarg',\n",
       " 'Hedi Tabia',\n",
       " 'Koji Nonobe',\n",
       " 'Sonja Zehetmayer',\n",
       " 'Alexandrina Orzan',\n",
       " 'Christian Goerick',\n",
       " 'Yury Ustinovskiy',\n",
       " 'Felipe Bravo-Marquez',\n",
       " 'Vasileios Lampos',\n",
       " 'Eiichiro Sumita',\n",
       " 'Yasser Ganjisaffar']"
      ]
     },
     "execution_count": 605,
     "metadata": {},
     "output_type": "execute_result"
    }
   ],
   "source": [
    "all_names[:25]"
   ]
  },
  {
   "cell_type": "code",
   "execution_count": 629,
   "metadata": {},
   "outputs": [
    {
     "data": {
      "text/plain": [
       "{'academic_degree': [],\n",
       " 'age': None,\n",
       " 'alive': True,\n",
       " 'awards': [],\n",
       " 'educated_at': [],\n",
       " 'employers': ['University College London'],\n",
       " 'google_scholar_link': '',\n",
       " 'notable_works': [],\n",
       " 'occupations': ['researcher'],\n",
       " 'personal_websites': 'https://www.lampos.net',\n",
       " 'wikidata_id': 'Q30507137'}"
      ]
     },
     "execution_count": 629,
     "metadata": {},
     "output_type": "execute_result"
    }
   ],
   "source": [
    "get_author_info_v2(all_names[22])"
   ]
  },
  {
   "cell_type": "code",
   "execution_count": 256,
   "metadata": {},
   "outputs": [],
   "source": [
    "def populate_authors_df_with_infos(infos):\n",
    "    for index, info in enumerate(infos):\n",
    "        all_authors.at[index, 'info'] = all_author_infos[index]"
   ]
  },
  {
   "cell_type": "code",
   "execution_count": 257,
   "metadata": {},
   "outputs": [],
   "source": [
    "populate_authors_df_with_infos(all_author_infos)"
   ]
  },
  {
   "cell_type": "code",
   "execution_count": 63,
   "metadata": {},
   "outputs": [],
   "source": [
    "import wptools\n",
    "from wikidata.client import Client\n",
    "from datetime import date\n",
    "\n",
    "wikidata_client = Client()"
   ]
  },
  {
   "cell_type": "code",
   "execution_count": 175,
   "metadata": {},
   "outputs": [],
   "source": [
    "# def get_author_wikidata_id(author_name):\n",
    "#     page = wptools.page(author_name, silent=True)\n",
    "#     page.get_query()\n",
    "#     return page.data['wikibase']"
   ]
  },
  {
   "cell_type": "code",
   "execution_count": 198,
   "metadata": {},
   "outputs": [],
   "source": [
    "def get_author_wikidata_id_new(name):\n",
    "    r = requests.get(f\"https://www.wikidata.org/w/api.php?action=wbsearchentities&language=en&search={name}&format=json\")\n",
    "    results = r.json()['search'][0]\n",
    "    return results['id']"
   ]
  },
  {
   "cell_type": "code",
   "execution_count": 60,
   "metadata": {},
   "outputs": [
    {
     "data": {
      "text/plain": [
       "'Q6721195'"
      ]
     },
     "execution_count": 60,
     "metadata": {},
     "output_type": "execute_result"
    }
   ],
   "source": [
    "get_author_wikidata_id(\"Maarten de Rijke\")"
   ]
  },
  {
   "cell_type": "code",
   "execution_count": 88,
   "metadata": {},
   "outputs": [],
   "source": [
    "def calculate_age(born):\n",
    "    today = date.today()\n",
    "    return today.year - born.year - ((today.month, today.day) < (born.month, born.day))"
   ]
  },
  {
   "cell_type": "code",
   "execution_count": 477,
   "metadata": {},
   "outputs": [],
   "source": [
    "def get_info_from_wikidata(wd_id):\n",
    "    entity = wikidata_client.get(wd_id, load=False)\n",
    "    \n",
    "    description = entity.description\n",
    "    image = get_image(entity)\n",
    "    dob, age = get_dob_and_age(entity)\n",
    "    dod, alive = get_dod_and_alive(entity)\n",
    "    webpage = get_webpage(entity)\n",
    "    occupation = get_occupation(entity)\n",
    "    employer = get_employer(entity)\n",
    "    google_scholar = get_scholar(entity)\n",
    "    \n",
    "    return {\"description\": str(description), \"wikidata_id\": wd_id, \"image\": image, \"date_of_birth\": dob, \"google_scholar_page\": google_scholar,\n",
    "            \"age\": age, \"alive\": alive, \"occupation\": occupation, \"employer\": employer, \"personal_webpage\": webpage}"
   ]
  },
  {
   "cell_type": "code",
   "execution_count": 478,
   "metadata": {},
   "outputs": [],
   "source": [
    "def get_author_info(author_name):\n",
    "    try:\n",
    "        wiki_id = get_author_wikidata_id_new(author_name)\n",
    "        return get_info_from_wikidata(wiki_id)\n",
    "    except LookupError:\n",
    "        return {}"
   ]
  },
  {
   "cell_type": "code",
   "execution_count": 487,
   "metadata": {},
   "outputs": [
    {
     "name": "stdout",
     "output_type": "stream",
     "text": [
      "{'description': 'AI researcher', 'wikidata_id': 'Q25208036', 'image': None, 'date_of_birth': None, 'google_scholar_page': 'https://scholar.google.com/citations?user=-8DNE4UAAAAJ', 'age': None, 'alive': True, 'occupation': 'Computer scientist', 'employer': 'Deepmind', 'personal_webpage': 'https://www.davidsilver.uk/'}\n",
      "1.9209039211273193\n"
     ]
    }
   ],
   "source": [
    "s = time.time()\n",
    "print(get_author_info(\"David Silver\"))\n",
    "print(time.time() - s)"
   ]
  },
  {
   "cell_type": "code",
   "execution_count": 492,
   "metadata": {},
   "outputs": [
    {
     "name": "stdout",
     "output_type": "stream",
     "text": [
      "{'Academic Tree ID (P2381)': '3611',\n",
      " 'Alexander Turnbull Library ID (P6683)': '120272',\n",
      " 'AlloCiné person ID (P1266)': '36179',\n",
      " 'Amazon author ID (P4862)': 'B000AP7JOU',\n",
      " 'American Film Institute person ID (P5340)': '9130',\n",
      " 'American National Biography ID (P4823)': '1300477',\n",
      " 'Angelicum ID (P5731)': '86877',\n",
      " 'Aozora Bunko author ID (P7311)': '1428',\n",
      " 'Arnet Miner author ID (P5776)': '53f5b414dabfae472ef80501',\n",
      " 'Atomic Heritage Foundation ID (P4590)': 'albert-einstein',\n",
      " 'BDEL ID (P6231)': '80919',\n",
      " 'BFI Films, TV and people ID (P4438)': '4ce2bb404fc06',\n",
      " 'BHCL ID (P6656)': '31723',\n",
      " 'BIU Santé person ID (P5375)': '5923',\n",
      " 'Babelio author ID (P3630)': '2827',\n",
      " 'BanQ author ID (P3280)': '0000007639',\n",
      " 'Basque Vikidia ID (P7832)': 'Albert_Einstein',\n",
      " 'BiblioNet author ID (P2188)': '157',\n",
      " 'Biblioteca Nacional de España ID (P950)': 'XX834035',\n",
      " 'Bibliothèque nationale de France ID (P268)': '119016075',\n",
      " 'Biographie nationale de Belgique ID (P6234)': 'albert-einstein',\n",
      " 'Bitraga author ID (P6173)': '4450',\n",
      " 'Bridgeman artist ID (P3965)': '41865',\n",
      " 'Brilliant Wiki ID (P6564)': 'albert-einstein',\n",
      " 'British Museum person or institution ID (P1711)': '9689',\n",
      " 'Brockhaus Enzyklopädie online ID (P5019)': 'einstein-albert',\n",
      " 'CALIS ID (P270)': 'n2004370668',\n",
      " 'CANTIC ID (P1273)': 'a10077078',\n",
      " 'CCAB ID (P1890)': '000034649',\n",
      " 'CERL Thesaurus ID (P1871)': 'cnp01496856',\n",
      " 'CONOR ID (P1280)': '7912035',\n",
      " 'CTHS person ID (P2383)': '117243',\n",
      " 'Canadiana Authorities ID (P1670)': '0053C3375',\n",
      " 'Canadiana NCF ID (P8179)': 'ncf10161360',\n",
      " 'Carnegie Hall agent ID (P4104)': '58992',\n",
      " \"Christie's creator ID (P4200)\": '54914',\n",
      " 'CiNii author ID (books) (P271)': 'DA00708434',\n",
      " 'CineMagia person ID (P4666)': '441757',\n",
      " 'Classiques des sciences sociales ID (P5390)': 'classiques/einstein_albert/einstein_albert',\n",
      " 'CoBiS author ID (P7865)': '95a5yja38danygu695b5yc1k6mw3acr',\n",
      " 'Comic Vine ID (P5905)': '4005-49115',\n",
      " 'Commons Creator page (P1472)': 'Albert Einstein',\n",
      " 'Commons category (P373)': 'Albert Einstein',\n",
      " 'Commons gallery (P935)': 'Albert Einstein',\n",
      " 'Cultureel Woordenboek ID (P3569)': 'natuurkunde-scheikunde-en-sterrenkunde/albert-einstein',\n",
      " 'DBC author ID (P3846)': '87097968275423',\n",
      " 'DMOZ ID (P998)': ['Science/Physics/History/People/Einstein,_Albert/',\n",
      "                    'World/Français/Sciences/Physique/Histoire/Personnages_historiques/Einstein,_Albert/',\n",
      "                    'World/Deutsch/Wissenschaft/Naturwissenschaften/Physik/Personen/Einstein,_Albert/',\n",
      "                    'World/Español/Ciencia_y_tecnología/Física/Historia/Biografías/Einstein,_Albert/'],\n",
      " 'Deutsche Biographie ID (P7902)': '118529579',\n",
      " 'Dharma Drum Buddhist College person ID (P1187)': 'A028454',\n",
      " 'Dialnet author ID (P1607)': '278727',\n",
      " 'Digitale Bibliotheek voor de Nederlandse Letteren author ID (P723)': 'eins001',\n",
      " 'Discogs artist ID (P1953)': '430935',\n",
      " 'Douban author ID (P6441)': '4559238',\n",
      " 'Douban movie celebrity ID (P5284)': '1032566',\n",
      " 'EGAXA ID (P1309)': 'vtls000837931',\n",
      " 'ELNET ID (P6394)': ['a11159522', 'a11206068'],\n",
      " 'Encyclopaedia Herder author ID (P5441)': 'Einstein,_Albert',\n",
      " 'Encyclopedia of Australian Science ID (P4228)': 'P000386b',\n",
      " 'Encyclopædia Britannica Online ID (P1417)': 'biography/Albert-Einstein',\n",
      " 'Encyclopædia Universalis ID (P3219)': 'albert-einstein',\n",
      " 'English Vikidia ID (P7829)': 'Albert_Einstein',\n",
      " 'Entomologists of the World ID (P5370)': '48276',\n",
      " 'Erdős number (P2021)': {'amount': '+2', 'unit': '1'},\n",
      " 'FAST ID (P2163)': '32023',\n",
      " 'FamilySearch person ID (P2889)': 'LZNC-TDG',\n",
      " 'Familypedia person ID (P4193)': 'Albert_Einstein_(1879-1955)',\n",
      " 'FilmTv.it person ID (P5254)': '184106',\n",
      " 'Filmportal ID (P2639)': '4533e35f16964c939b82033bb6259e32',\n",
      " 'Filmweb.pl person ID (P5033)': '308021',\n",
      " 'Find A Grave memorial ID (P535)': '314',\n",
      " 'Flanders Arts Institute person ID (P5068)': '1916687',\n",
      " 'Freebase ID (P646)': '/m/0jcx',\n",
      " 'French Vikidia ID (P7818)': 'Albert_Einstein',\n",
      " 'GND ID (P227)': '118529579',\n",
      " 'GTAA ID (P1741)': '96461',\n",
      " 'Gedbas genealogy person ID (P4108)': '1178245646',\n",
      " 'Geni.com profile ID (P2600)': '4481345450320047133',\n",
      " 'Giant Bomb ID (P5247)': '3005-791',\n",
      " 'Goodreads author ID (P2963)': '9810',\n",
      " 'Google Doodle (P4431)': 'albert-einsteins-124th-birthday',\n",
      " 'Google Scholar author ID (P1960)': 'qc6CJjYAAAAJ',\n",
      " 'Gran Enciclopèdia Catalana ID (P1296)': '0023623',\n",
      " 'Great Aragonese Encyclopedia ID (P1807)': '4887',\n",
      " 'Great Russian Encyclopedia Online ID (P2924)': '4940471',\n",
      " 'HDS ID (P902)': '028814',\n",
      " 'IMDb ID (P345)': 'nm0251868',\n",
      " 'INSPIRE-HEP author ID (P2930)': 'A.Einstein.1',\n",
      " 'ISNI (P213)': ['0000 0000 7704 0933', '0000 0001 2281 955X'],\n",
      " 'IdRef ID (P269)': '026849186',\n",
      " 'InPhO ID (P863)': 'thinker/2958',\n",
      " 'Internet Speculative Fiction Database author ID (P1233)': '99141',\n",
      " 'Italian Vikidia ID (P7822)': 'Albert_Einstein',\n",
      " 'JewAge person ID (P4116)': 'P0520433729',\n",
      " 'KNAW past member ID (P2454)': 'PE00000116',\n",
      " 'Kinopoisk person ID (P2604)': '231298',\n",
      " 'Klexikon article ID (P6573)': 'Albert_Einstein',\n",
      " 'LNB ID (P1368)': '000027126',\n",
      " 'LONSEA ID (P5306)': '2504',\n",
      " 'Leidse Hoogleraren ID (P2861)': '733',\n",
      " 'Leopoldina member ID (P3413)': '3232',\n",
      " 'Les Archives du Spectacle Person ID (P1977)': '145134',\n",
      " 'Letterboxd actor ID (P6119)': 'albert-einstein',\n",
      " 'Libraries Australia ID (P409)': '36582360',\n",
      " 'Library of Congress authority ID (P244)': 'n79022889',\n",
      " 'LibraryThing author ID (P7400)': 'einsteinalbert',\n",
      " 'LibriVox author ID (P1899)': '1035',\n",
      " 'Libris-URI (P5587)': 'fcrtts5z33mrjqc',\n",
      " 'LiederNet author ID (P8234)': '28026',\n",
      " 'MR Author ID (P4955)': '62280',\n",
      " 'MacTutor biography ID (P1563)': 'Einstein',\n",
      " 'Mathematics Genealogy Project ID (P549)': '53269',\n",
      " 'Munzinger person ID (P1284)': '00000000666',\n",
      " 'MusicBrainz artist ID (P434)': 'c98c325e-7277-46e8-8b44-e3517f3e041a',\n",
      " 'MutualArt artist ID (P6578)': '65B24EFADE9787FD',\n",
      " 'Muziekweb performer ID (P5882)': 'M00000061906',\n",
      " 'NCL ID (P1048)': '369710',\n",
      " 'NE.se ID (P3222)': 'albert-einstein',\n",
      " 'NKCR AUT ID (P691)': 'jn19990002019',\n",
      " 'NLA Trove ID (P1315)': '382451',\n",
      " 'NLC authorities (P1213)': '000124193',\n",
      " 'NLP ID (unique) (P1695)': 'A11787673',\n",
      " 'NNDB people ID (P1263)': '302/000022236',\n",
      " 'NORAF ID (P1015)': '90053072',\n",
      " 'NSK ID (P1375)': '000012537',\n",
      " 'NUKAT ID (P1207)': 'n95300836',\n",
      " 'National Academy of Sciences member ID (P5380)': '20001817',\n",
      " 'National Diet Library ID (P349)': '00438728',\n",
      " 'National Library of Brazil ID (P4619)': '000584933',\n",
      " 'National Library of Chile ID (P7369)': '000007200',\n",
      " 'National Library of Greece ID (P3348)': '76370',\n",
      " 'National Library of Israel ID (P949)': '000042773',\n",
      " 'National Library of Israel J9U ID (P8189)': '987007260607605171',\n",
      " 'National Library of Korea Identifier (P5034)': 'KAC200103196',\n",
      " 'National Library of Lithuania ID (P7699)': 'LNB:V-13679;=BM',\n",
      " 'National Library of Romania ID (P1003)': '000074139',\n",
      " 'National Library of Russia ID (P7029)': '770128355',\n",
      " 'National Portrait Gallery (London) person ID (P1816)': 'mp73025',\n",
      " 'Nationale Thesaurus voor Auteurs ID (P1006)': '068350767',\n",
      " 'New York Times topic ID (P3221)': 'person/albert-einstein',\n",
      " 'NicoNicoPedia ID (P6900)': 'アルベルト・アインシュタイン',\n",
      " 'Nobel Laureate API ID (P8024)': '26',\n",
      " 'Nobel Prize People Nomination ID (P3360)': '2728',\n",
      " 'Nobel prize ID (P3188)': 'physics/laureates/1921/einstein',\n",
      " 'Online Books Page author ID (P4629)': 'Einstein, Albert, 1879-1955',\n",
      " 'Open Library ID (P648)': 'OL3175986A',\n",
      " 'Open Media Database person ID (P5534)': '243732',\n",
      " 'OpenPlaques subject ID (P1430)': '3242',\n",
      " 'PLWABN ID (P7293)': '9810646540205606',\n",
      " 'PM20 folder ID (P4293)': 'pe/004590',\n",
      " 'PORT person ID (P2435)': '184328',\n",
      " 'Penguin India author ID (P7031)': 'albert-einstein',\n",
      " 'Physics History Network ID (P6551)': '11507030',\n",
      " 'Poincaré Papers person ID (P7142)': '15296',\n",
      " 'Pontificia Università della Santa Croce ID (P5739)': '25090',\n",
      " 'Portuguese National Library ID (P1005)': '26339',\n",
      " 'Prisma ID (P4515)': '10287261',\n",
      " 'Project Gutenberg author ID (P1938)': '1630',\n",
      " 'Quora topic ID (P3417)': 'Albert-Einstein-physicist',\n",
      " 'RA Collections ID (P4553)': '22021',\n",
      " 'RERO ID (P3065)': '02-A003212458',\n",
      " 'RationalWiki ID (P7775)': 'Albert_Einstein',\n",
      " 'Regensburg Classification (P1150)': 'BF 5620',\n",
      " 'Rotten Tomatoes ID (P1258)': 'celebrity/albert_einstein',\n",
      " 'Runeberg author ID (P3154)': 'einstalb',\n",
      " 'Rupa Publications author ID (P6984)': 'albert-einstein',\n",
      " 'SBN author ID (P396)': 'IT\\\\ICCU\\\\CFIV\\\\035853',\n",
      " 'SELIBR ID (P906)': '184709',\n",
      " 'SHARE Catalogue author ID (P3987)': '690',\n",
      " 'SNAC Ark ID (P3430)': 'w63c6p77',\n",
      " 'Science Museum people ID (P4389)': 'cp37054',\n",
      " 'ScienceOpen author ID (P7709)': '712a47ec-8348-4530-88cc-ce7fca822027',\n",
      " 'Scopus Author ID (P1153)': '22988279600',\n",
      " 'Semion author ID (P7671)': '2975999',\n",
      " 'Spanish Vikidia ID (P7827)': 'Albert_Einstein',\n",
      " 'Store norske leksikon ID (P4342)': 'Albert_Einstein',\n",
      " 'Swedish Film Database person ID (P2168)': '404958',\n",
      " 'Swiss National Sound Archives ID (P6770)': '68115.011',\n",
      " 'TMDb person ID (P4985)': '1317625',\n",
      " 'TV Guide person ID (P3845)': '218603',\n",
      " 'TV.com ID (P2638)': 'people/albert-einstein',\n",
      " 'The Trading Card Database person ID (P5421)': '66492',\n",
      " 'Treccani ID (P3365)': 'albert-einstein',\n",
      " \"Treccani's Dizionario di Filosofia ID (P7993)\": ['albert-einstein',\n",
      "                                                   'albert-einstein_res-fdb8f22c-a041-11e1-9b2f-d5ce3506d72e'],\n",
      " \"Treccani's Enciclopedia Italiana ID (P4223)\": ['albert-einstein',\n",
      "                                                 'albert-einstein_res-b649b13f-87e7-11dc-8e9d-0016357eee51'],\n",
      " 'U.S. National Archives Identifier (P1225)': '10582637',\n",
      " 'UK National Archives ID (P3029)': 'F51776',\n",
      " 'ULAN ID (P245)': '500240971',\n",
      " 'University of Barcelona authority ID (P1580)': 'a1279550',\n",
      " 'Unz Review author ID (P2734)': 'EinsteinAlbert',\n",
      " 'VIAF ID (P214)': '75121530',\n",
      " 'Vatican Library ID (P1017)': 'ADV10181679',\n",
      " 'WeRelate person ID (P4159)': 'Albert_Einstein_(1)',\n",
      " \"Who's Who UK ID (P4789)\": 'U236915',\n",
      " 'WikiTree person ID (P2949)': 'Einstein-1',\n",
      " 'Wikimedia outline (P5125)': 'outline of Albert Einstein (Q48835067)',\n",
      " 'Wolfram Language entity code (P4839)': 'Entity[\"Person\", '\n",
      "                                         '\"AlbertEinstein::6tb7g\"]',\n",
      " 'WordLift URL (P6363)': 'http://data.thenextweb.com/tnw/entity/albert_einstein',\n",
      " 'WorldCat Identities ID (P7859)': 'lccn-n79022889',\n",
      " 'abART person ID (P6844)': '16734',\n",
      " 'academic degree (P512)': 'Doctor of Philosophy in Physics (Q19693354)',\n",
      " 'archINFORM person or group ID (P5508)': '56488',\n",
      " 'archives at (P485)': ['Swiss Literary Archives (Q675617)',\n",
      "                        'Albert Einstein Archives (Q22095877)',\n",
      "                        'ETH Zurich University Archives (Q39934978)',\n",
      "                        'Louis Round Wilson Library (Q14708020)'],\n",
      " \"audio recording of the subject's spoken voice (P990)\": '03 ALBERT '\n",
      "                                                         'EINSTEIN.ogg',\n",
      " 'award received (P166)': ['Barnard Medal for Meritorious Service to Science '\n",
      "                           '(Q808424)',\n",
      "                           'Nobel Prize in Physics (Q38104)',\n",
      "                           'Gold Medal of the Royal Astronomical Society '\n",
      "                           '(Q753072)',\n",
      "                           'Prix Jules Janssen (Q1711648)',\n",
      "                           'Matteucci Medal (Q1419938)',\n",
      "                           'Max Planck Medal (Q317038)',\n",
      "                           'Franklin Medal (Q3141777)',\n",
      "                           'Copley Medal (Q28003)',\n",
      "                           'Pour le Mérite for Sciences and Arts (Q15056034)',\n",
      "                           'Josiah Willard Gibbs Lectureship (Q1522873)',\n",
      "                           'New Jersey Hall of Fame (Q14705795)',\n",
      "                           'Honorary doctor of the University of Geneva '\n",
      "                           '(Q25287226)',\n",
      "                           'honorary doctor of the Hebrew University of '\n",
      "                           'Jerusalem (Q28861731)',\n",
      "                           'Honorary doctor of the Princeton University '\n",
      "                           '(Q42309226)',\n",
      "                           'Pour le Mérite (Q156478)',\n",
      "                           'honorary doctor of the University of Madrid '\n",
      "                           'Complutense (Q50621171)',\n",
      "                           'Foreign Member of the Royal Society (Q14906020)',\n",
      "                           'Member of the National Academy of Sciences of the '\n",
      "                           'United States (Q63315195)'],\n",
      " 'cause of death (P509)': 'abdominal aortic aneurysm (Q2256736)',\n",
      " 'child (P40)': ['Hans Albert Einstein (Q123371)',\n",
      "                 'Eduard Einstein (Q118253)',\n",
      "                 'Lieserl Einstein (Q468357)'],\n",
      " 'commemorative plaque image (P1801)': ['Einstein deska.jpg',\n",
      "                                        '8839 - Milano - Via Bigli - Palazzo '\n",
      "                                        'Olivazzi - Lapide Albert Einstein - '\n",
      "                                        \"Foto Giovanni Dall'Orto - \"\n",
      "                                        '14-Apr-2007.jpg',\n",
      "                                        'Home Albert Einstein 1895 '\n",
      "                                        'Memorial.jpg',\n",
      "                                        'Einstein-barrakka.JPG',\n",
      "                                        'Albert Einstein - Andräschule '\n",
      "                                        'Salzburg.PNG',\n",
      "                                        '05w Denkmal Albert Einstein.jpg',\n",
      "                                        'Einstein Plaque.jpg'],\n",
      " 'country of citizenship (P27)': ['novalue',\n",
      "                                  'Switzerland (Q39)',\n",
      "                                  'Austria-Hungary (Q28513)',\n",
      "                                  'Weimar Republic (Q41304)',\n",
      "                                  'United States of America (Q30)'],\n",
      " 'date of birth (P569)': '+1879-03-14T00:00:00Z',\n",
      " 'date of death (P570)': '+1955-04-18T00:00:00Z',\n",
      " 'described at URL (P973)': ['http://www.einsteinsommerhaus.de/index.php?id=539&no_cache=1',\n",
      "                             'https://www.ige.ch/de/ueber-uns/einstein.html',\n",
      "                             'http://www.mcnbiografias.com/app-bio/do/show?key=einstein-albert'],\n",
      " 'described by source (P1343)': ['Larousse Encyclopedia online (Q17329836)',\n",
      "                                 'Great Soviet Encyclopedia (1969–1978) '\n",
      "                                 '(Q17378135)',\n",
      "                                 'BEIC Digital Library (Q51955019)',\n",
      "                                 'Obalky knih.cz (Q67311526)',\n",
      "                                 '1922 Encyclopædia Britannica (Q15987490)'],\n",
      " 'doctoral advisor (P184)': ['Alfred Kleiner (Q4175282)',\n",
      "                             'Heinrich Burkhardt (Q97154)',\n",
      "                             'Heinrich Friedrich Weber (Q116635)'],\n",
      " 'educated at (P69)': ['ETH Zurich (Q11942)',\n",
      "                       'Luitpold-Gymnasium (Q1876751)',\n",
      "                       'Alte Kantonsschule Aarau (Q435651)',\n",
      "                       'University of Zurich (Q206702)'],\n",
      " 'employer (P108)': ['Swiss Federal Institute of Intellectual Property '\n",
      "                     '(Q685539)',\n",
      "                     'Charles University (Q31519)',\n",
      "                     'University of Zurich (Q206702)',\n",
      "                     'Karl-Ferdinands-Universität (Q1729754)',\n",
      "                     'ETH Zurich (Q11942)',\n",
      "                     'Kaiser Wilhelm Society (Q708038)',\n",
      "                     'Princeton University (Q21578)',\n",
      "                     'Leiden University (Q156598)',\n",
      "                     'University of Bern (Q659080)',\n",
      "                     'Deutsche Physikalische Gesellschaft (Q819187)',\n",
      "                     'Humboldt University of Berlin (Q152087)',\n",
      "                     'Royal Prussian Academy of Sciences (Q329464)',\n",
      "                     'Bern (Q70)',\n",
      "                     'Institute for Advanced Study (Q635642)',\n",
      "                     'University of California, Berkeley (Q168756)',\n",
      "                     'Leiden University (Q156598)'],\n",
      " 'ethnic group (P172)': ['Jewish people (Q7325)', 'Ashkenazi Jews (Q34069)'],\n",
      " 'exact match (P2888)': 'http://data.nobelprize.org/resource/laureate/26',\n",
      " 'family name (P734)': 'Einstein (Q16834800)',\n",
      " 'father (P22)': 'Hermann Einstein (Q88665)',\n",
      " 'field of work (P101)': 'theoretical physics (Q18362)',\n",
      " 'genealogics.org person ID (P1819)': 'I00482340',\n",
      " 'given name (P735)': 'Albert (Q577011)',\n",
      " 'image (P18)': 'Albert Einstein Head.jpg',\n",
      " 'influenced by (P737)': ['Fyodor Dostoyevsky (Q991)',\n",
      "                          'Hermann Minkowski (Q57246)',\n",
      "                          'Benedictus de Spinoza (Q35802)',\n",
      "                          'Mohandas Karamchand Gandhi (Q1001)',\n",
      "                          'Arthur Schopenhauer (Q38193)',\n",
      "                          'Hendrik Lorentz (Q41688)',\n",
      "                          'George Bernard Shaw (Q19185)',\n",
      "                          'Isaac Newton (Q935)',\n",
      "                          'Riazuddin (Q7322195)',\n",
      "                          'David Hume (Q37160)',\n",
      "                          'Thomas Young (Q25820)',\n",
      "                          'Bernhard Riemann (Q42299)',\n",
      "                          'Moritz Schlick (Q57193)',\n",
      "                          'James Clerk Maxwell (Q9095)',\n",
      "                          'Paul Valéry (Q200639)',\n",
      "                          'Karl Pearson (Q310794)',\n",
      "                          'Henry George (Q355245)',\n",
      "                          'Ernst Mach (Q93996)'],\n",
      " 'instance of (P31)': 'human (Q5)',\n",
      " 'languages spoken, written or signed (P1412)': ['English (Q1860)',\n",
      "                                                 'German (Q188)'],\n",
      " 'manner of death (P1196)': 'natural causes (Q3739104)',\n",
      " 'member of (P463)': ['Royal Society (Q123885)',\n",
      "                      'Royal Prussian Academy of Sciences (Q329464)',\n",
      "                      'German Academy of Sciences Leopoldina (Q543804)',\n",
      "                      'Lincean Academy (Q338432)',\n",
      "                      'American Philosophical Society (Q466089)',\n",
      "                      'Bavarian Academy of Sciences and Humanities (Q684415)',\n",
      "                      'Göttingen Academy of Sciences (Q414188)',\n",
      "                      'Academy of Sciences of the USSR (Q2370801)',\n",
      "                      'French Academy of Sciences (Q188771)',\n",
      "                      'Royal Swedish Academy of Sciences (Q191583)',\n",
      "                      'Royal Netherlands Academy of Arts and Sciences '\n",
      "                      '(Q253439)',\n",
      "                      'American Academy of Arts and Sciences (Q463303)',\n",
      "                      'Russian Academy of Sciences (1917–25) (Q4397938)',\n",
      "                      'Indian National Science Academy (Q2095524)',\n",
      "                      'Accademia Nazionale delle Scienze detta dei XL '\n",
      "                      '(Q3603946)',\n",
      "                      'Brazilian Academy of Sciences (Q2497232)',\n",
      "                      'Centre international de synthèse (Q2945826)',\n",
      "                      'National Academy of Sciences (Q270794)',\n",
      "                      'National Academy of Sciences (Q270794)'],\n",
      " 'member of political party (P102)': 'German Democratic Party (Q328195)',\n",
      " 'mother (P25)': 'Pauline Koch (Q4357787)',\n",
      " 'name in native language (P1559)': 'Albert Einstein',\n",
      " 'native language (P103)': 'German (Q188)',\n",
      " 'nominated for (P1411)': ['Nobel Prize in Physics (Q38104)',\n",
      "                           'Nobel Prize in Physics (Q38104)',\n",
      "                           'Nobel Prize in Physics (Q38104)',\n",
      "                           'Nobel Prize in Physics (Q38104)',\n",
      "                           'Nobel Prize in Physics (Q38104)',\n",
      "                           'Nobel Prize in Physics (Q38104)',\n",
      "                           'Nobel Prize in Physics (Q38104)',\n",
      "                           'Nobel Prize in Physics (Q38104)',\n",
      "                           'Nobel Prize in Physics (Q38104)',\n",
      "                           'Nobel Prize in Physics (Q38104)',\n",
      "                           'Nobel Prize in Physics (Q38104)'],\n",
      " 'notable work (P800)': ['special relativity (Q11455)',\n",
      "                         'general relativity (Q11452)',\n",
      "                         'photoelectric effect (Q83213)',\n",
      "                         'theory of relativity (Q43514)',\n",
      "                         'theory of Brownian Motion (Q56100717)',\n",
      "                         'mass–energy equivalence (Q35875)',\n",
      "                         'Planck constant (Q122894)',\n",
      "                         'Einstein field equations (Q273711)',\n",
      "                         'quantum mechanics (Q944)',\n",
      "                         'unified field theory (Q1080745)'],\n",
      " 'occupation (P106)': ['theoretical physicist (Q19350898)',\n",
      "                       'philosopher of science (Q16389557)',\n",
      "                       'inventor (Q205375)',\n",
      "                       'science writer (Q3745071)',\n",
      "                       'pedagogue (Q1231865)',\n",
      "                       'university teacher (Q1622272)',\n",
      "                       'physicist (Q169470)',\n",
      "                       'non-fiction writer (Q15980158)',\n",
      "                       'philosopher (Q4964182)',\n",
      "                       'writer (Q36180)',\n",
      "                       'teacher (Q37226)',\n",
      "                       'scientist (Q901)',\n",
      "                       'mathematician (Q170790)',\n",
      "                       'patent examiner (Q2896489)'],\n",
      " 'official website (P856)': 'http://einstein.biz/',\n",
      " 'on focus list of Wikimedia project (P5008)': 'Wikipedia:Vital articles '\n",
      "                                               '(Q5460604)',\n",
      " 'openMLOL author ID (P3762)': '22128',\n",
      " 'participant in (P1344)': ['Manhattan Project (Q127050)',\n",
      "                            '1. Solvay Conference on Physics (Q63430342)',\n",
      "                            '1927 Solvay Conference (Q65930519)'],\n",
      " 'place of birth (P19)': 'Ulm (Q3012)',\n",
      " 'place of burial (P119)': 'National Museum of Health and Medicine (Q902624)',\n",
      " 'place of death (P20)': 'Princeton (Q138518)',\n",
      " 'place of origin (Switzerland) (P1321)': 'Zürich (Q72)',\n",
      " 'present in work (P1441)': 'Marie Curie: The Courage of Knowledge (Q26963166)',\n",
      " 'professorship (P803)': ['full professor (Q25339110)',\n",
      "                          'academician (Q414528)'],\n",
      " 'pronunciation audio (P443)': 'De-Albert Einstein-Pronuciation.ogg',\n",
      " 'relative (P1038)': ['Lina Einstein (Q55594631)', 'Elsa Einstein (Q68761)'],\n",
      " 'religion (P140)': ['atheism (Q7066)',\n",
      "                     'agnosticism (Q288928)',\n",
      "                     'Judaism (Q9268)'],\n",
      " 'residence (P551)': ['Einsteinhaus Caputh (Q1309294)',\n",
      "                      'Einsteinhaus (Q390003)',\n",
      "                      'Germany (Q183)',\n",
      "                      'Munich (Q1726)',\n",
      "                      'Princeton (Q138518)'],\n",
      " 'sex or gender (P21)': 'male (Q6581097)',\n",
      " 'sibling (P3373)': 'Maja Einstein (Q216738)',\n",
      " 'signature (P109)': 'Albert Einstein signature 1934.svg',\n",
      " 'spoken text audio (P989)': ['Hy-Ալբերտ Այնշտայն (Albert Einstein).ogg',\n",
      "                              'De-Albert Einstein.ogg'],\n",
      " 'spouse (P26)': ['Elsa Einstein (Q68761)', 'Mileva Marić (Q76346)'],\n",
      " 'student (P802)': 'Ernst G. Straus (Q87554)',\n",
      " 'student of (P1066)': 'Heinrich Friedrich Weber (Q116635)',\n",
      " 'test taken (P5021)': 'intelligence test (Q1051792)',\n",
      " \"topic's main category (P910)\": 'Category:Albert Einstein (Q7213562)',\n",
      " \"topic's main template (P1424)\": 'Template:Einstein (Q8092556)',\n",
      " 'work location (P937)': ['Bern (Q70)',\n",
      "                          'Prague (Q1085)',\n",
      "                          'Zürich (Q72)',\n",
      "                          'Berlin (Q64)',\n",
      "                          'Caputh (Q464344)',\n",
      "                          'Princeton (Q138518)'],\n",
      " 'writing languages (P6886)': 'English (Q1860)',\n",
      " 'zbMATH author ID (P1556)': 'einstein.albert',\n",
      " 'ČSFD person ID (P2605)': '52943'}\n",
      "15.20129108428955\n"
     ]
    }
   ],
   "source": [
    "s = time.time()\n",
    "k = wptools.page(wikibase='Q937', silent=True).get()\n",
    "pprint(k.data['wikidata'])\n",
    "print(time.time() - s)"
   ]
  },
  {
   "cell_type": "code",
   "execution_count": 944,
   "metadata": {},
   "outputs": [],
   "source": [
    "def parse_wikidata_v2(author_id):\n",
    "    \n",
    "    print(author_id)\n",
    "    \n",
    "    def clean_value_from_qcode(value):\n",
    "        if value:\n",
    "            return \" \".join(value.split(\" \")[:-1])\n",
    "        else:\n",
    "            return \"\"\n",
    "    \n",
    "    k = wptools.page(wikibase=author_id, silent=True).get_wikidata()\n",
    "    wikidata_dict = k.data['wikidata']\n",
    "    \n",
    "    def try_value(value):\n",
    "        try:\n",
    "            val = wikidata_dict[value]\n",
    "            if val:\n",
    "                return val\n",
    "            else:\n",
    "                return []\n",
    "        except:\n",
    "            return []\n",
    "    \n",
    "    wikidata_id = author_id\n",
    "    # These two fields are prone to mismatch so we leave them out for now\n",
    "#     description = k.data[\"description\"]\n",
    "#     image_url = k.data['image'][0]['url']\n",
    "    scholar = try_value('Google Scholar author ID (P1960)')\n",
    "    if scholar:\n",
    "        scholar_link = f\"https://scholar.google.com/citations?user={scholar}\"\n",
    "    else:\n",
    "        scholar_link = \"\"\n",
    "    try:\n",
    "        occupations = [clean_value_from_qcode(value) for value in [try_value('occupation (P106)')]]\n",
    "    except AttributeError:\n",
    "        occupations = [clean_value_from_qcode(value) for value in try_value('occupation (P106)')]\n",
    "    websites = try_value('official website (P856)')\n",
    "    try:\n",
    "        employers = [clean_value_from_qcode(employer) for employer in [try_value('employer (P108)')]]\n",
    "    except AttributeError:\n",
    "        employers = [clean_value_from_qcode(employer) for employer in try_value('employer (P108)')]\n",
    "    try:\n",
    "        educated_at = [clean_value_from_qcode(ed) for ed in [try_value('educated at (P69)')]]\n",
    "    except AttributeError:\n",
    "        educated_at = [clean_value_from_qcode(ed) for ed in try_value('educated at (P69)')]\n",
    "    try:\n",
    "        if 'date of birth (P569)' in wikidata_dict and wikidata_dict['date of birth (P569)'] != '+2000-00-00T00:00:00Z':\n",
    "            try:\n",
    "                dob = wikidata_dict['date of birth (P569)']\n",
    "#                 print(dob)\n",
    "                if isinstance(dob, list):\n",
    "                    if len(dob) > 1:\n",
    "                        dob = dob[0]\n",
    "#                 print(\"dob erna:\", dob)\n",
    "                date_of_birth = datetime.strptime(dob.split(\"T\")[0], '+%Y-%m-%d')\n",
    "            except ValueError:\n",
    "                date_of_birth = datetime.strptime(dob.split(\"T\")[0][1:5], \"%Y\")\n",
    "            age = calculate_age(date_of_birth)\n",
    "        else:\n",
    "            age = None\n",
    "    except:\n",
    "        age = None\n",
    "    try:\n",
    "        notable_works = [clean_value_from_qcode(val) for val in [try_value('notable work (P800)')]]\n",
    "    except AttributeError:\n",
    "        notable_works = [clean_value_from_qcode(val) for val in try_value('notable work (P800)')]\n",
    "        \n",
    "    awards = try_value('award received (P166)')\n",
    "    if awards and isinstance(awards, list):\n",
    "        awards = [v for v in [clean_value_from_qcode(val) for val in awards] if v != \"\"]\n",
    "    elif isinstance(awards, str):\n",
    "        awards = [v for v in [clean_value_from_qcode(awards)] if v!= \"\"]\n",
    "        \n",
    "#     try:\n",
    "#         awards = [clean_value_from_qcode(val) for val in [try_value('award received (P166)')]]\n",
    "#     except AttributeError:\n",
    "#         awards = [clean_value_from_qcode(val) for val in try_value('award received (P166)')]\n",
    "    if 'date of death (P570)' in wikidata_dict:\n",
    "        alive = False\n",
    "    else:\n",
    "        alive = True\n",
    "    try:\n",
    "        academic_degree = clean_value_from_qcode(try_value('academic degree (P512)'))\n",
    "    except:\n",
    "        academic_degree = try_value('academic degree (P512)')\n",
    "    \n",
    "    return {\"wikidata_id\": wikidata_id, \"google_scholar_link\": scholar_link, \"occupations\": occupations, \"personal_websites\": websites, \n",
    "           \"employers\": employers, \"educated_at\": educated_at, \"age\": age, \"notable_works\": notable_works, \"awards\": awards, \n",
    "            \"academic_degree\": academic_degree, \"alive\": alive}"
   ]
  },
  {
   "cell_type": "code",
   "execution_count": 954,
   "metadata": {},
   "outputs": [
    {
     "name": "stdout",
     "output_type": "stream",
     "text": [
      "Q470503\n"
     ]
    },
    {
     "data": {
      "text/plain": [
       "{'academic_degree': '',\n",
       " 'age': 99,\n",
       " 'alive': False,\n",
       " 'awards': ['doctor honoris causa',\n",
       "  'Steele Prize for Mathematical Exposition'],\n",
       " 'educated_at': ['Duke University'],\n",
       " 'employers': ['University of Wisconsin–Madison'],\n",
       " 'google_scholar_link': '',\n",
       " 'notable_works': [''],\n",
       " 'occupations': ['mathematician', 'university teacher'],\n",
       " 'personal_websites': [],\n",
       " 'wikidata_id': 'Q470503'}"
      ]
     },
     "execution_count": 954,
     "metadata": {},
     "output_type": "execute_result"
    }
   ],
   "source": [
    "get_author_info_v2('Q470503')"
   ]
  },
  {
   "cell_type": "code",
   "execution_count": 959,
   "metadata": {},
   "outputs": [
    {
     "data": {
      "text/plain": [
       "[{'academic_degree': '',\n",
       "  'age': None,\n",
       "  'alive': False,\n",
       "  'awards': ['doctor honoris causa',\n",
       "   'Steele Prize for Mathematical Exposition'],\n",
       "  'educated_at': ['Duke University'],\n",
       "  'employers': ['University of Wisconsin–Madison'],\n",
       "  'google_scholar_link': '',\n",
       "  'notable_works': [''],\n",
       "  'occupations': ['mathematician', 'university teacher'],\n",
       "  'personal_websites': [],\n",
       "  'wikidata_id': 'Q470503'}]"
      ]
     },
     "execution_count": 959,
     "metadata": {},
     "output_type": "execute_result"
    }
   ],
   "source": [
    "[w for w in wiculled if w != {} and w['wikidata_id'] == 'Q470503']"
   ]
  },
  {
   "cell_type": "code",
   "execution_count": null,
   "metadata": {},
   "outputs": [],
   "source": []
  },
  {
   "cell_type": "code",
   "execution_count": 946,
   "metadata": {},
   "outputs": [],
   "source": [
    "def get_author_info_v2(author_name):\n",
    "    try:\n",
    "        wiki_id = get_author_wikidata_id_new(author_name)\n",
    "        return parse_wikidata_v2(wiki_id)\n",
    "    except:\n",
    "        return {}"
   ]
  },
  {
   "cell_type": "code",
   "execution_count": 947,
   "metadata": {},
   "outputs": [
    {
     "name": "stdout",
     "output_type": "stream",
     "text": [
      "Q15783490\n"
     ]
    },
    {
     "data": {
      "text/plain": [
       "{'academic_degree': '',\n",
       " 'age': 72,\n",
       " 'alive': True,\n",
       " 'awards': ['W. Wallace McDowell Award',\n",
       "  'ACM Fellow',\n",
       "  'Fellow of the International Association for Pattern Recognition',\n",
       "  'IEEE Fellow',\n",
       "  'Fellow of the SPIE',\n",
       "  'AAAS Fellow'],\n",
       " 'educated_at': ['Ohio State University',\n",
       "  'Indian Institute of Technology Kanpur'],\n",
       " 'employers': ['Michigan State University'],\n",
       " 'google_scholar_link': 'https://scholar.google.com/citations?user=g-_ZXGsAAAAJ',\n",
       " 'notable_works': [''],\n",
       " 'occupations': ['computer scientist', 'engineer'],\n",
       " 'personal_websites': [],\n",
       " 'wikidata_id': 'Q15783490'}"
      ]
     },
     "execution_count": 947,
     "metadata": {},
     "output_type": "execute_result"
    }
   ],
   "source": [
    "get_author_info_v2('Anil K. Jain')"
   ]
  },
  {
   "cell_type": "code",
   "execution_count": 433,
   "metadata": {},
   "outputs": [],
   "source": [
    "entity = wikidata_client.get('Q21678689', load=False)"
   ]
  },
  {
   "cell_type": "code",
   "execution_count": 387,
   "metadata": {},
   "outputs": [],
   "source": [
    "# Too slow\n",
    "def get_field_of_works(entity):\n",
    "    entries = entity.attributes['claims']['P101']\n",
    "    ids = [i[\"mainsnak\"][\"datavalue\"][\"value\"][\"id\"] for i in entries]\n",
    "    values = []\n",
    "    for qid in ids:\n",
    "        d = wikidata_client.get(qid, load=True)\n",
    "        values.append(d.data['labels']['en']['value'].capitalize())\n",
    "    return values"
   ]
  },
  {
   "cell_type": "code",
   "execution_count": 466,
   "metadata": {},
   "outputs": [],
   "source": [
    "def get_image(entity):\n",
    "    image_prop = wikidata_client.get('P18')\n",
    "    try:\n",
    "        image = entity[image_prop].image_url\n",
    "    except:\n",
    "        image = None\n",
    "    return image\n",
    "\n",
    "def get_dob_and_age(entity):\n",
    "    dob_prop = wikidata_client.get('P569')\n",
    "    try:\n",
    "        dob = entity[dob_prop]\n",
    "        age = calculate_age(dob)\n",
    "    except:\n",
    "        dob = None\n",
    "        age = None\n",
    "    return dob, age\n",
    "\n",
    "def get_dod_and_alive(entity):\n",
    "    dod_prop = wikidata_client.get('P570')\n",
    "    try:\n",
    "        dod = entity[dod_prop]\n",
    "        alive = False\n",
    "    except:\n",
    "        dod = None\n",
    "        alive = True\n",
    "    return dod, alive\n",
    "\n",
    "def get_occupation(entity):\n",
    "    occupation_prop = wikidata_client.get(\"P106\")    \n",
    "    try:\n",
    "        occupation = entity[occupation_prop]\n",
    "        occupation = wikidata_client.get(occupation.id, load=True).data['labels']['en']['value'].capitalize()\n",
    "    except:\n",
    "        occupation = None\n",
    "    return occupation\n",
    "\n",
    "def get_employer(entity):\n",
    "    employer_prop = wikidata_client.get('P108')\n",
    "    try:\n",
    "        employer = entity[employer_prop]\n",
    "        employer = wikidata_client.get(employer.id, load=True).data['labels']['en']['value'].capitalize()\n",
    "    except:\n",
    "        employer = None\n",
    "    return employer\n",
    "\n",
    "def get_webpage(entity):\n",
    "    webpage_prop = wikidata_client.get('P856')\n",
    "    try:\n",
    "        webpage = entity[webpage_prop]\n",
    "    except:\n",
    "        webpage = None\n",
    "    return webpage\n",
    "\n",
    "\n",
    "def get_scholar(entity):\n",
    "    google_scholar = wikidata_client.get('P1960')\n",
    "    try:\n",
    "        scholar = f\"https://scholar.google.com/citations?user={entity[google_scholar]}\" \n",
    "    except:\n",
    "        scholar = None\n",
    "    return scholar\n",
    "\n"
   ]
  },
  {
   "cell_type": "code",
   "execution_count": null,
   "metadata": {},
   "outputs": [],
   "source": []
  },
  {
   "cell_type": "code",
   "execution_count": 937,
   "metadata": {},
   "outputs": [],
   "source": [
    "k = wptools.page(wikibase='Q15783490', silent=True).get_wikidata()\n",
    "wikidata_dict = k.data['wikidata']"
   ]
  },
  {
   "cell_type": "code",
   "execution_count": 938,
   "metadata": {},
   "outputs": [
    {
     "name": "stdout",
     "output_type": "stream",
     "text": [
      "72\n"
     ]
    }
   ],
   "source": [
    "try:\n",
    "    if 'date of birth (P569)' in wikidata_dict and wikidata_dict['date of birth (P569)'] != '+2000-00-00T00:00:00Z':\n",
    "        try:\n",
    "            dob = wikidata_dict['date of birth (P569)']\n",
    "#                 print(dob)\n",
    "            if isinstance(dob, list):\n",
    "                if len(dob) > 1:\n",
    "                    dob = dob[0]\n",
    "#                 print(\"dob erna:\", dob)\n",
    "            date_of_birth = datetime.strptime(dob.split(\"T\")[0], '+%Y-%m-%d')\n",
    "        except ValueError:\n",
    "            date_of_birth = datetime.strptime(dob.split(\"T\")[0][1:5], \"%Y\")\n",
    "        age = calculate_age(date_of_birth)\n",
    "    else:\n",
    "        age = None\n",
    "except:\n",
    "    age = None\n",
    "    \n",
    "print(age)"
   ]
  },
  {
   "cell_type": "code",
   "execution_count": 866,
   "metadata": {},
   "outputs": [],
   "source": [
    "import ast"
   ]
  },
  {
   "cell_type": "code",
   "execution_count": 849,
   "metadata": {},
   "outputs": [],
   "source": [
    "new_authors = pd.read_csv(\"authors_with_affiliation_info.csv\", index_col=0)"
   ]
  },
  {
   "cell_type": "code",
   "execution_count": 872,
   "metadata": {},
   "outputs": [],
   "source": [
    "def get_author_affiliation_infos(author_id):\n",
    "    info = new_authors[new_authors.id == int(author_id)][\"info\"].values[0]\n",
    "    return ast.literal_eval(info)"
   ]
  },
  {
   "cell_type": "code",
   "execution_count": 873,
   "metadata": {},
   "outputs": [
    {
     "name": "stdout",
     "output_type": "stream",
     "text": [
      "1000 loops, best of 3: 697 µs per loop\n"
     ]
    }
   ],
   "source": [
    "%%timeit\n",
    "get_author_affiliation_infos('100047651')"
   ]
  },
  {
   "cell_type": "code",
   "execution_count": 850,
   "metadata": {},
   "outputs": [
    {
     "data": {
      "text/html": [
       "<div>\n",
       "<style scoped>\n",
       "    .dataframe tbody tr th:only-of-type {\n",
       "        vertical-align: middle;\n",
       "    }\n",
       "\n",
       "    .dataframe tbody tr th {\n",
       "        vertical-align: top;\n",
       "    }\n",
       "\n",
       "    .dataframe thead th {\n",
       "        text-align: right;\n",
       "    }\n",
       "</style>\n",
       "<table border=\"1\" class=\"dataframe\">\n",
       "  <thead>\n",
       "    <tr style=\"text-align: right;\">\n",
       "      <th></th>\n",
       "      <th>id</th>\n",
       "      <th>n_citation</th>\n",
       "      <th>n_pubs</th>\n",
       "      <th>name</th>\n",
       "      <th>pubs</th>\n",
       "      <th>tags</th>\n",
       "      <th>info</th>\n",
       "    </tr>\n",
       "  </thead>\n",
       "  <tbody>\n",
       "    <tr>\n",
       "      <td>0</td>\n",
       "      <td>100047651</td>\n",
       "      <td>420</td>\n",
       "      <td>32</td>\n",
       "      <td>Florent Benaych-Georges</td>\n",
       "      <td>[{'i': '2132657058', 'r': 0}, {'i': '276099004...</td>\n",
       "      <td>[{'t': 'Brownian motion'}, {'t': 'Convergence'...</td>\n",
       "      <td>{'additionalWebsite': 'http://en.wikipedia.org...</td>\n",
       "    </tr>\n",
       "    <tr>\n",
       "      <td>1</td>\n",
       "      <td>1000859103</td>\n",
       "      <td>259</td>\n",
       "      <td>5</td>\n",
       "      <td>Frederique Crete</td>\n",
       "      <td>[{'i': '2079534654', 'r': 2}, {'i': '224933826...</td>\n",
       "      <td>[{'t': 'Psychophysics'}, {'t': 'Sound quality'...</td>\n",
       "      <td>{'gridPage': 'http://www.grid.ac/institutes/gr...</td>\n",
       "    </tr>\n",
       "    <tr>\n",
       "      <td>2</td>\n",
       "      <td>100110539</td>\n",
       "      <td>271</td>\n",
       "      <td>13</td>\n",
       "      <td>Maryam Karimzadehgan</td>\n",
       "      <td>[{'i': '2546347449', 'r': 1}, {'i': '136907812...</td>\n",
       "      <td>[{'t': 'Machine learning'}, {'t': 'Web page'},...</td>\n",
       "      <td>{}</td>\n",
       "    </tr>\n",
       "    <tr>\n",
       "      <td>3</td>\n",
       "      <td>100167829</td>\n",
       "      <td>1184</td>\n",
       "      <td>117</td>\n",
       "      <td>Fabio Massimo Zanzotto</td>\n",
       "      <td>[{'i': '371408518', 'r': 2}, {'i': '1487779154...</td>\n",
       "      <td>[{'t': 'Semantic data model'}, {'t': 'Cancer'}...</td>\n",
       "      <td>{'gridPage': 'http://www.grid.ac/institutes/gr...</td>\n",
       "    </tr>\n",
       "    <tr>\n",
       "      <td>4</td>\n",
       "      <td>100252078</td>\n",
       "      <td>1042</td>\n",
       "      <td>131</td>\n",
       "      <td>Stefano Serra-Capizzano</td>\n",
       "      <td>[{'i': '2132492255', 'r': 1}, {'i': '252184247...</td>\n",
       "      <td>[{'t': 'Spectral power distribution'}, {'t': '...</td>\n",
       "      <td>{'gridPage': 'http://www.grid.ac/institutes/gr...</td>\n",
       "    </tr>\n",
       "    <tr>\n",
       "      <td>...</td>\n",
       "      <td>...</td>\n",
       "      <td>...</td>\n",
       "      <td>...</td>\n",
       "      <td>...</td>\n",
       "      <td>...</td>\n",
       "      <td>...</td>\n",
       "      <td>...</td>\n",
       "    </tr>\n",
       "    <tr>\n",
       "      <td>67803</td>\n",
       "      <td>2877861999</td>\n",
       "      <td>5716</td>\n",
       "      <td>27</td>\n",
       "      <td>J. Bobin</td>\n",
       "      <td>[{'i': '2137276019', 'r': 18}, {'i': '20445647...</td>\n",
       "      <td>NaN</td>\n",
       "      <td>{'additionalWebsite': 'http://en.wikipedia.org...</td>\n",
       "    </tr>\n",
       "    <tr>\n",
       "      <td>67804</td>\n",
       "      <td>2877876007</td>\n",
       "      <td>1197</td>\n",
       "      <td>38</td>\n",
       "      <td>Tom A. M. Kevenaar</td>\n",
       "      <td>[{'i': '2320012933', 'r': 3}, {'i': '148954825...</td>\n",
       "      <td>NaN</td>\n",
       "      <td>{'gridPage': 'http://www.grid.ac/institutes/gr...</td>\n",
       "    </tr>\n",
       "    <tr>\n",
       "      <td>67805</td>\n",
       "      <td>2878057644</td>\n",
       "      <td>630</td>\n",
       "      <td>7</td>\n",
       "      <td>N. Kannathal</td>\n",
       "      <td>[{'i': '2132483662', 'r': 0}, {'i': '149475650...</td>\n",
       "      <td>NaN</td>\n",
       "      <td>{'gridPage': 'http://www.grid.ac/institutes/gr...</td>\n",
       "    </tr>\n",
       "    <tr>\n",
       "      <td>67806</td>\n",
       "      <td>287820616</td>\n",
       "      <td>1013</td>\n",
       "      <td>25</td>\n",
       "      <td>Stephan Bloehdorn</td>\n",
       "      <td>[{'i': '2523573027', 'r': 0}, {'i': '193792410...</td>\n",
       "      <td>[{'t': 'Semantic technology'}, {'t': 'Metadata...</td>\n",
       "      <td>{'homepage': 'https://www.kit.edu/english/', '...</td>\n",
       "    </tr>\n",
       "    <tr>\n",
       "      <td>67807</td>\n",
       "      <td>2878502427</td>\n",
       "      <td>29</td>\n",
       "      <td>2</td>\n",
       "      <td>M. S. Ryoo</td>\n",
       "      <td>[{'i': '158321290', 'r': 0}, {'i': '2038485832...</td>\n",
       "      <td>NaN</td>\n",
       "      <td>{'gridPage': 'http://www.grid.ac/institutes/gr...</td>\n",
       "    </tr>\n",
       "  </tbody>\n",
       "</table>\n",
       "<p>67808 rows × 7 columns</p>\n",
       "</div>"
      ],
      "text/plain": [
       "               id  n_citation  n_pubs                     name  \\\n",
       "0       100047651         420      32  Florent Benaych-Georges   \n",
       "1      1000859103         259       5         Frederique Crete   \n",
       "2       100110539         271      13     Maryam Karimzadehgan   \n",
       "3       100167829        1184     117   Fabio Massimo Zanzotto   \n",
       "4       100252078        1042     131  Stefano Serra-Capizzano   \n",
       "...           ...         ...     ...                      ...   \n",
       "67803  2877861999        5716      27                 J. Bobin   \n",
       "67804  2877876007        1197      38       Tom A. M. Kevenaar   \n",
       "67805  2878057644         630       7             N. Kannathal   \n",
       "67806   287820616        1013      25        Stephan Bloehdorn   \n",
       "67807  2878502427          29       2               M. S. Ryoo   \n",
       "\n",
       "                                                    pubs  \\\n",
       "0      [{'i': '2132657058', 'r': 0}, {'i': '276099004...   \n",
       "1      [{'i': '2079534654', 'r': 2}, {'i': '224933826...   \n",
       "2      [{'i': '2546347449', 'r': 1}, {'i': '136907812...   \n",
       "3      [{'i': '371408518', 'r': 2}, {'i': '1487779154...   \n",
       "4      [{'i': '2132492255', 'r': 1}, {'i': '252184247...   \n",
       "...                                                  ...   \n",
       "67803  [{'i': '2137276019', 'r': 18}, {'i': '20445647...   \n",
       "67804  [{'i': '2320012933', 'r': 3}, {'i': '148954825...   \n",
       "67805  [{'i': '2132483662', 'r': 0}, {'i': '149475650...   \n",
       "67806  [{'i': '2523573027', 'r': 0}, {'i': '193792410...   \n",
       "67807  [{'i': '158321290', 'r': 0}, {'i': '2038485832...   \n",
       "\n",
       "                                                    tags  \\\n",
       "0      [{'t': 'Brownian motion'}, {'t': 'Convergence'...   \n",
       "1      [{'t': 'Psychophysics'}, {'t': 'Sound quality'...   \n",
       "2      [{'t': 'Machine learning'}, {'t': 'Web page'},...   \n",
       "3      [{'t': 'Semantic data model'}, {'t': 'Cancer'}...   \n",
       "4      [{'t': 'Spectral power distribution'}, {'t': '...   \n",
       "...                                                  ...   \n",
       "67803                                                NaN   \n",
       "67804                                                NaN   \n",
       "67805                                                NaN   \n",
       "67806  [{'t': 'Semantic technology'}, {'t': 'Metadata...   \n",
       "67807                                                NaN   \n",
       "\n",
       "                                                    info  \n",
       "0      {'additionalWebsite': 'http://en.wikipedia.org...  \n",
       "1      {'gridPage': 'http://www.grid.ac/institutes/gr...  \n",
       "2                                                     {}  \n",
       "3      {'gridPage': 'http://www.grid.ac/institutes/gr...  \n",
       "4      {'gridPage': 'http://www.grid.ac/institutes/gr...  \n",
       "...                                                  ...  \n",
       "67803  {'additionalWebsite': 'http://en.wikipedia.org...  \n",
       "67804  {'gridPage': 'http://www.grid.ac/institutes/gr...  \n",
       "67805  {'gridPage': 'http://www.grid.ac/institutes/gr...  \n",
       "67806  {'homepage': 'https://www.kit.edu/english/', '...  \n",
       "67807  {'gridPage': 'http://www.grid.ac/institutes/gr...  \n",
       "\n",
       "[67808 rows x 7 columns]"
      ]
     },
     "execution_count": 850,
     "metadata": {},
     "output_type": "execute_result"
    }
   ],
   "source": [
    "new_authors"
   ]
  },
  {
   "cell_type": "code",
   "execution_count": null,
   "metadata": {},
   "outputs": [],
   "source": []
  }
 ],
 "metadata": {
  "kernelspec": {
   "display_name": "Python 3",
   "language": "python",
   "name": "python3"
  },
  "language_info": {
   "codemirror_mode": {
    "name": "ipython",
    "version": 3
   },
   "file_extension": ".py",
   "mimetype": "text/x-python",
   "name": "python",
   "nbconvert_exporter": "python",
   "pygments_lexer": "ipython3",
   "version": "3.6.7"
  }
 },
 "nbformat": 4,
 "nbformat_minor": 2
}
